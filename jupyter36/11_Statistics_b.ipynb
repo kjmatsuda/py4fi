{
 "cells": [
  {
   "cell_type": "markdown",
   "metadata": {},
   "source": [
    "<img src=\"http://hilpisch.com/tpq_logo.png\" alt=\"The Python Quants\" width=\"35%\" align=\"right\" border=\"0\"><br>"
   ]
  },
  {
   "cell_type": "markdown",
   "metadata": {},
   "source": [
    "# Python for Finance"
   ]
  },
  {
   "cell_type": "markdown",
   "metadata": {},
   "source": [
    "**Analyze Big Financial Data**\n",
    "\n",
    "O'Reilly (2014)\n",
    "\n",
    "Yves Hilpisch"
   ]
  },
  {
   "cell_type": "markdown",
   "metadata": {},
   "source": [
    "<img style=\"border:0px solid grey;\" src=\"http://hilpisch.com/python_for_finance.png\" alt=\"Python for Finance\" width=\"30%\" align=\"left\" border=\"0\">"
   ]
  },
  {
   "cell_type": "markdown",
   "metadata": {},
   "source": [
    "**Buy the book ** |\n",
    "<a href='http://shop.oreilly.com/product/0636920032441.do' target='_blank'>O'Reilly</a> |\n",
    "<a href='http://www.amazon.com/Yves-Hilpisch/e/B00JCYHHJM' target='_blank'>Amazon</a>\n",
    "\n",
    "**All book codes & IPYNBs** |\n",
    "<a href=\"http://oreilly.quant-platform.com\">http://oreilly.quant-platform.com</a>\n",
    "\n",
    "**The Python Quants GmbH** | <a href='http://tpq.io' target='_blank'>http://tpq.io</a>\n",
    "\n",
    "**Contact us** | <a href='mailto:pff@tpq.io'>pff@tpq.io</a>"
   ]
  },
  {
   "cell_type": "markdown",
   "metadata": {},
   "source": [
    "# Statistics (b)"
   ]
  },
  {
   "cell_type": "code",
   "execution_count": 3,
   "metadata": {},
   "outputs": [],
   "source": [
    "from pylab import plt\n",
    "plt.style.use('ggplot')\n",
    "import matplotlib as mpl\n",
    "mpl.rcParams['font.family'] = 'serif'\n",
    "import warnings; warnings.simplefilter('ignore')"
   ]
  },
  {
   "cell_type": "markdown",
   "metadata": {},
   "source": [
    "## Principal Component Analysis"
   ]
  },
  {
   "cell_type": "code",
   "execution_count": 4,
   "metadata": {
    "uuid": "a82b3a95-9ee0-4ac3-9601-16972b7728b0"
   },
   "outputs": [
    {
     "ename": "ModuleNotFoundError",
     "evalue": "No module named 'fix_yahoo_finance'",
     "output_type": "error",
     "traceback": [
      "\u001b[0;31m---------------------------------------------------------------------------\u001b[0m",
      "\u001b[0;31mModuleNotFoundError\u001b[0m                       Traceback (most recent call last)",
      "\u001b[0;32m<ipython-input-4-04acb1643b7c>\u001b[0m in \u001b[0;36m<module>\u001b[0;34m\u001b[0m\n\u001b[1;32m      2\u001b[0m \u001b[0;32mimport\u001b[0m \u001b[0mpandas\u001b[0m \u001b[0;32mas\u001b[0m \u001b[0mpd\u001b[0m\u001b[0;34m\u001b[0m\u001b[0;34m\u001b[0m\u001b[0m\n\u001b[1;32m      3\u001b[0m \u001b[0;32mfrom\u001b[0m \u001b[0mpandas_datareader\u001b[0m \u001b[0;32mimport\u001b[0m \u001b[0mdata\u001b[0m \u001b[0;32mas\u001b[0m \u001b[0mpdr\u001b[0m\u001b[0;34m\u001b[0m\u001b[0;34m\u001b[0m\u001b[0m\n\u001b[0;32m----> 4\u001b[0;31m \u001b[0;32mimport\u001b[0m \u001b[0mfix_yahoo_finance\u001b[0m \u001b[0;32mas\u001b[0m \u001b[0myf\u001b[0m\u001b[0;34m\u001b[0m\u001b[0;34m\u001b[0m\u001b[0m\n\u001b[0m\u001b[1;32m      5\u001b[0m \u001b[0myf\u001b[0m\u001b[0;34m.\u001b[0m\u001b[0mpdr_override\u001b[0m\u001b[0;34m(\u001b[0m\u001b[0;34m)\u001b[0m\u001b[0;34m\u001b[0m\u001b[0;34m\u001b[0m\u001b[0m\n\u001b[1;32m      6\u001b[0m \u001b[0;32mfrom\u001b[0m \u001b[0msklearn\u001b[0m\u001b[0;34m.\u001b[0m\u001b[0mdecomposition\u001b[0m \u001b[0;32mimport\u001b[0m \u001b[0mKernelPCA\u001b[0m\u001b[0;34m\u001b[0m\u001b[0;34m\u001b[0m\u001b[0m\n",
      "\u001b[0;31mModuleNotFoundError\u001b[0m: No module named 'fix_yahoo_finance'"
     ]
    }
   ],
   "source": [
    "import numpy as np\n",
    "import pandas as pd\n",
    "from pandas_datareader import data as pdr\n",
    "import fix_yahoo_finance as yf\n",
    "yf.pdr_override()\n",
    "from sklearn.decomposition import KernelPCA"
   ]
  },
  {
   "cell_type": "code",
   "execution_count": null,
   "metadata": {},
   "outputs": [],
   "source": [
    "pd.__version__"
   ]
  },
  {
   "cell_type": "markdown",
   "metadata": {},
   "source": [
    "### DAX Index and its 30 Stocks"
   ]
  },
  {
   "cell_type": "code",
   "execution_count": null,
   "metadata": {
    "uuid": "b5f51ac2-45b2-4a72-befd-27f38ef6f6d8"
   },
   "outputs": [],
   "source": [
    "symbols = ['ADS.DE', 'ALV.DE', 'BAS.DE', 'BAYN.DE', 'BEI.DE',\n",
    "           'BMW.DE', 'CBK.DE', 'CON.DE', 'DAI.DE', 'DB1.DE',\n",
    "           'DBK.DE', 'DPW.DE', 'DTE.DE', 'EOAN.DE', 'FME.DE',\n",
    "           'FRE.DE', 'HEI.DE', 'HEN3.DE', 'IFX.DE', 'LHA.DE',\n",
    "           'LIN.DE', 'LXS.DE', 'MRK.DE', 'MUV2.DE', 'RWE.DE',\n",
    "           'SAP.DE', 'SDF.DE', 'SIE.DE', 'TKA.DE', 'VOW3.DE',\n",
    "           '^GDAXI']"
   ]
  },
  {
   "cell_type": "raw",
   "metadata": {},
   "source": [
    "data = pdr.get_data_yahoo('^GDAXI')"
   ]
  },
  {
   "cell_type": "raw",
   "metadata": {},
   "source": [
    "data = pdr.get_data_yahoo('ADS.DE')"
   ]
  },
  {
   "cell_type": "raw",
   "metadata": {},
   "source": [
    "data.info()"
   ]
  },
  {
   "cell_type": "code",
   "execution_count": null,
   "metadata": {
    "uuid": "1556b1fa-99da-4122-8aa7-b9e06c069a21"
   },
   "outputs": [],
   "source": [
    "%%time\n",
    "data = pd.DataFrame()\n",
    "for sym in symbols:\n",
    "    # only retrieves data from Jan 2016 on\n",
    "    data[sym] = pdr.get_data_yahoo(sym, start='2016-1-1')['Adj Close']\n",
    "data = data.dropna()\n",
    "print('')"
   ]
  },
  {
   "cell_type": "code",
   "execution_count": null,
   "metadata": {
    "uuid": "b4813521-7846-4660-8391-770fea7c318f"
   },
   "outputs": [],
   "source": [
    "dax = pd.DataFrame(data.pop('^GDAXI'))"
   ]
  },
  {
   "cell_type": "code",
   "execution_count": null,
   "metadata": {
    "uuid": "03d4a81f-3bd8-47dd-a5b6-84f060fcdf97"
   },
   "outputs": [],
   "source": [
    "data[data.columns[:6]].head()"
   ]
  },
  {
   "cell_type": "markdown",
   "metadata": {},
   "source": [
    "### Applying PCA"
   ]
  },
  {
   "cell_type": "code",
   "execution_count": null,
   "metadata": {
    "uuid": "5ae896a2-8493-4d0c-978c-1b4f26ce2291"
   },
   "outputs": [],
   "source": [
    "scale_function = lambda x: (x - x.mean()) / x.std()"
   ]
  },
  {
   "cell_type": "code",
   "execution_count": null,
   "metadata": {
    "uuid": "4503ea73-aa94-4187-b9c8-cbf00564bf7a"
   },
   "outputs": [],
   "source": [
    "pca = KernelPCA().fit(data.apply(scale_function))"
   ]
  },
  {
   "cell_type": "code",
   "execution_count": null,
   "metadata": {
    "uuid": "e6f9ebd8-1d61-4047-a254-fe0e524f4c8f"
   },
   "outputs": [],
   "source": [
    "len(pca.lambdas_)"
   ]
  },
  {
   "cell_type": "code",
   "execution_count": null,
   "metadata": {
    "uuid": "1694bb38-778a-403f-82af-0129fdd3a260"
   },
   "outputs": [],
   "source": [
    "pca.lambdas_[:10].round()"
   ]
  },
  {
   "cell_type": "code",
   "execution_count": null,
   "metadata": {
    "uuid": "8c11b92d-c1ea-48dd-a47a-fb4d980b5f40"
   },
   "outputs": [],
   "source": [
    "get_we = lambda x: x / x.sum()"
   ]
  },
  {
   "cell_type": "code",
   "execution_count": null,
   "metadata": {
    "uuid": "b72fcfcb-d6f0-4101-a59b-c8df516154e8"
   },
   "outputs": [],
   "source": [
    "get_we(pca.lambdas_)[:10]"
   ]
  },
  {
   "cell_type": "code",
   "execution_count": null,
   "metadata": {
    "uuid": "d40695cd-b736-484d-bc11-4755eb1d3448"
   },
   "outputs": [],
   "source": [
    "get_we(pca.lambdas_)[:5].sum()"
   ]
  },
  {
   "cell_type": "markdown",
   "metadata": {},
   "source": [
    "### Constructing a PCA Index"
   ]
  },
  {
   "cell_type": "code",
   "execution_count": null,
   "metadata": {
    "uuid": "b4691f51-fa25-48d1-855d-907136ee39a7"
   },
   "outputs": [],
   "source": [
    "pca = KernelPCA(n_components=1).fit(data.apply(scale_function))\n",
    "dax['PCA_1'] = pca.transform(-data)"
   ]
  },
  {
   "cell_type": "code",
   "execution_count": null,
   "metadata": {
    "uuid": "9addd109-7de2-4998-b2f0-11c72c3b98da"
   },
   "outputs": [],
   "source": [
    "import matplotlib.pyplot as plt\n",
    "%matplotlib inline\n",
    "dax.apply(scale_function).plot(figsize=(8, 4))\n",
    "# tag: pca_1\n",
    "# title: German DAX index and PCA index with 1 component"
   ]
  },
  {
   "cell_type": "code",
   "execution_count": null,
   "metadata": {
    "uuid": "4b039aad-93a0-439b-b2d5-d24119604fa4"
   },
   "outputs": [],
   "source": [
    "pca = KernelPCA(n_components=5).fit(data.apply(scale_function))\n",
    "pca_components = pca.transform(-data)\n",
    "weights = get_we(pca.lambdas_)\n",
    "dax['PCA_5'] = np.dot(pca_components, weights)"
   ]
  },
  {
   "cell_type": "code",
   "execution_count": null,
   "metadata": {
    "uuid": "fc7a90b6-167b-44dc-9a31-38d479be9026"
   },
   "outputs": [],
   "source": [
    "import matplotlib.pyplot as plt\n",
    "%matplotlib inline\n",
    "dax.apply(scale_function).plot(figsize=(8, 4))\n",
    "# tag: pca_2\n",
    "# title: German DAX index and PCA indices with 1 and 5 components"
   ]
  },
  {
   "cell_type": "code",
   "execution_count": null,
   "metadata": {
    "uuid": "ceb357ad-d98a-4618-8e73-a6dc77a80436"
   },
   "outputs": [],
   "source": [
    "import matplotlib as mpl\n",
    "mpl_dates = mpl.dates.date2num(data.index.to_pydatetime())\n",
    "mpl_dates[:10]"
   ]
  },
  {
   "cell_type": "code",
   "execution_count": null,
   "metadata": {
    "uuid": "60ae390c-9534-4e57-bc1e-42e261d0abc9"
   },
   "outputs": [],
   "source": [
    "plt.figure(figsize=(8, 4))\n",
    "plt.scatter(dax['PCA_5'], dax['^GDAXI'], c=mpl_dates)\n",
    "lin_reg = np.polyval(np.polyfit(dax['PCA_5'],\n",
    "                                dax['^GDAXI'], 1),\n",
    "                                dax['PCA_5'])\n",
    "plt.plot(dax['PCA_5'], lin_reg, 'r', lw=3)\n",
    "plt.grid(True)\n",
    "plt.xlabel('PCA_5')\n",
    "plt.ylabel('^GDAXI')\n",
    "plt.colorbar(ticks=mpl.dates.DayLocator(interval=250),\n",
    "                format=mpl.dates.DateFormatter('%d %b %y'))\n",
    "# tag: pca_3\n",
    "# title: DAX return values against PCA return values with linear regression"
   ]
  },
  {
   "cell_type": "code",
   "execution_count": null,
   "metadata": {
    "uuid": "2c9bea6f-bed0-49d0-83ad-a30c17b31922"
   },
   "outputs": [],
   "source": [
    "cut_date = '2017-3-1'\n",
    "early_pca = dax[dax.index < cut_date]['PCA_5']\n",
    "early_reg = np.polyval(np.polyfit(early_pca,\n",
    "                dax['^GDAXI'][dax.index < cut_date], 1),\n",
    "                early_pca)"
   ]
  },
  {
   "cell_type": "code",
   "execution_count": null,
   "metadata": {
    "uuid": "0df5fdce-32ae-4b85-836d-91355f33bb90"
   },
   "outputs": [],
   "source": [
    "late_pca = dax[dax.index >= cut_date]['PCA_5']\n",
    "late_reg = np.polyval(np.polyfit(late_pca,\n",
    "                dax['^GDAXI'][dax.index >= cut_date], 1),\n",
    "                late_pca)"
   ]
  },
  {
   "cell_type": "code",
   "execution_count": null,
   "metadata": {
    "uuid": "ad8b2336-b13f-49a2-92b9-3f7b340be327"
   },
   "outputs": [],
   "source": [
    "plt.figure(figsize=(8, 4))\n",
    "plt.scatter(dax['PCA_5'], dax['^GDAXI'], c=mpl_dates)\n",
    "plt.plot(early_pca, early_reg, 'r', lw=3)\n",
    "plt.plot(late_pca, late_reg, 'r', lw=3)\n",
    "plt.grid(True)\n",
    "plt.xlabel('PCA_5')\n",
    "plt.ylabel('^GDAXI')\n",
    "plt.colorbar(ticks=mpl.dates.DayLocator(interval=250),\n",
    "                format=mpl.dates.DateFormatter('%d %b %y'))\n",
    "# tag: pca_7\n",
    "# title: DAX index values against PCA index values with early and late regression (regime switch)"
   ]
  },
  {
   "cell_type": "markdown",
   "metadata": {},
   "source": [
    "## Bayesian Regression"
   ]
  },
  {
   "cell_type": "markdown",
   "metadata": {},
   "source": [
    "### Bayes' Formula"
   ]
  },
  {
   "cell_type": "markdown",
   "metadata": {},
   "source": [
    "### PyMC3"
   ]
  },
  {
   "cell_type": "code",
   "execution_count": 5,
   "metadata": {
    "uuid": "72026681-577f-49e6-abe0-f5554e39fa06"
   },
   "outputs": [
    {
     "ename": "ModuleNotFoundError",
     "evalue": "No module named 'pymc3'",
     "output_type": "error",
     "traceback": [
      "\u001b[0;31m---------------------------------------------------------------------------\u001b[0m",
      "\u001b[0;31mModuleNotFoundError\u001b[0m                       Traceback (most recent call last)",
      "\u001b[0;32m<ipython-input-5-c20ed0abecc5>\u001b[0m in \u001b[0;36m<module>\u001b[0;34m\u001b[0m\n\u001b[1;32m      1\u001b[0m \u001b[0;32mimport\u001b[0m \u001b[0mwarnings\u001b[0m\u001b[0;34m\u001b[0m\u001b[0;34m\u001b[0m\u001b[0m\n\u001b[1;32m      2\u001b[0m \u001b[0mwarnings\u001b[0m\u001b[0;34m.\u001b[0m\u001b[0msimplefilter\u001b[0m\u001b[0;34m(\u001b[0m\u001b[0;34m'ignore'\u001b[0m\u001b[0;34m)\u001b[0m\u001b[0;34m\u001b[0m\u001b[0;34m\u001b[0m\u001b[0m\n\u001b[0;32m----> 3\u001b[0;31m \u001b[0;32mimport\u001b[0m \u001b[0mpymc3\u001b[0m \u001b[0;32mas\u001b[0m \u001b[0mpm\u001b[0m\u001b[0;34m\u001b[0m\u001b[0;34m\u001b[0m\u001b[0m\n\u001b[0m\u001b[1;32m      4\u001b[0m \u001b[0;32mimport\u001b[0m \u001b[0mnumpy\u001b[0m \u001b[0;32mas\u001b[0m \u001b[0mnp\u001b[0m\u001b[0;34m\u001b[0m\u001b[0;34m\u001b[0m\u001b[0m\n\u001b[1;32m      5\u001b[0m \u001b[0mnp\u001b[0m\u001b[0;34m.\u001b[0m\u001b[0mrandom\u001b[0m\u001b[0;34m.\u001b[0m\u001b[0mseed\u001b[0m\u001b[0;34m(\u001b[0m\u001b[0;36m1000\u001b[0m\u001b[0;34m)\u001b[0m\u001b[0;34m\u001b[0m\u001b[0;34m\u001b[0m\u001b[0m\n",
      "\u001b[0;31mModuleNotFoundError\u001b[0m: No module named 'pymc3'"
     ]
    }
   ],
   "source": [
    "import warnings\n",
    "warnings.simplefilter('ignore')\n",
    "import pymc3 as pm\n",
    "import numpy as np\n",
    "np.random.seed(1000)\n",
    "import matplotlib.pyplot as plt\n",
    "%matplotlib inline"
   ]
  },
  {
   "cell_type": "markdown",
   "metadata": {},
   "source": [
    "### Introductory Example"
   ]
  },
  {
   "cell_type": "code",
   "execution_count": null,
   "metadata": {
    "uuid": "4b612fde-e947-4a33-a275-6202d7ded7bb"
   },
   "outputs": [],
   "source": [
    "x = np.linspace(0, 10, 500)\n",
    "y = 4 + 2 * x + np.random.standard_normal(len(x)) * 2"
   ]
  },
  {
   "cell_type": "code",
   "execution_count": null,
   "metadata": {
    "uuid": "ad9f9a77-ffb5-4eed-a79b-bd2ea33ae0e2"
   },
   "outputs": [],
   "source": [
    "reg = np.polyfit(x, y, 1)\n",
    "  # linear regression"
   ]
  },
  {
   "cell_type": "code",
   "execution_count": null,
   "metadata": {
    "uuid": "4f6cbf6d-06ce-4f8d-a7a7-1209004b686a"
   },
   "outputs": [],
   "source": [
    "plt.figure(figsize=(8, 4))\n",
    "plt.scatter(x, y, c=y, marker='v')\n",
    "plt.plot(x, reg[1] + reg[0] * x, lw=2.0)\n",
    "plt.colorbar()\n",
    "plt.grid(True)\n",
    "plt.xlabel('x')\n",
    "plt.ylabel('y')\n",
    "# tag: pm_fig_0\n",
    "# title: Sample data points a regresion line\n",
    "# size: 90"
   ]
  },
  {
   "cell_type": "code",
   "execution_count": null,
   "metadata": {
    "uuid": "5903887a-2a6b-4dce-89f1-9de9be686ef4"
   },
   "outputs": [],
   "source": [
    "reg"
   ]
  },
  {
   "cell_type": "code",
   "execution_count": null,
   "metadata": {
    "scrolled": true,
    "uuid": "46936559-a438-475e-bd5b-f669abed06e2"
   },
   "outputs": [],
   "source": [
    "with pm.Model() as model: \n",
    "        # model specifications in PyMC3\n",
    "        # are wrapped in a with-statement\n",
    "    # define priors\n",
    "    alpha = pm.Normal('alpha', mu=0, sd=20)\n",
    "    beta = pm.Normal('beta', mu=0, sd=20)\n",
    "    sigma = pm.Uniform('sigma', lower=0, upper=10)\n",
    "    \n",
    "    # define linear regression\n",
    "    y_est = alpha + beta * x\n",
    "    \n",
    "    # define likelihood\n",
    "    likelihood = pm.Normal('y', mu=y_est, sd=sigma, observed=y)\n",
    "    \n",
    "    # inference\n",
    "    start = pm.find_MAP()\n",
    "      # find starting value by optimization\n",
    "    step = pm.NUTS()\n",
    "      # instantiate MCMC sampling algorithm\n",
    "    trace = pm.sample(100, step, start=start, progressbar=False)\n",
    "      # draw 100 posterior samples using NUTS sampling"
   ]
  },
  {
   "cell_type": "code",
   "execution_count": null,
   "metadata": {
    "uuid": "e06c4eed-10d4-4d4c-aea0-4e4164f4d7f5"
   },
   "outputs": [],
   "source": [
    "trace[0]"
   ]
  },
  {
   "cell_type": "code",
   "execution_count": null,
   "metadata": {
    "uuid": "c172bd48-8b11-4128-9e97-f20ce835d319"
   },
   "outputs": [],
   "source": [
    "fig = pm.traceplot(trace, lines={'alpha': 4, 'beta': 2, 'sigma': 2})\n",
    "plt.figure(figsize=(8, 8))\n",
    "# tag: pm_fig_1\n",
    "# title: Trace plots for alpha, beta and sigma\n",
    "# size: 90"
   ]
  },
  {
   "cell_type": "code",
   "execution_count": null,
   "metadata": {
    "uuid": "99e44b63-168c-415a-be8f-9347f45578aa"
   },
   "outputs": [],
   "source": [
    "plt.figure(figsize=(8, 4))\n",
    "plt.scatter(x, y, c=y, marker='v')\n",
    "plt.colorbar()\n",
    "plt.grid(True)\n",
    "plt.xlabel('x')\n",
    "plt.ylabel('y')\n",
    "for i in range(len(trace)):\n",
    "    plt.plot(x, trace['alpha'][i] + trace['beta'][i] * x)\n",
    "# tag: pm_fig_2\n",
    "# title: Sample data and regression lines from Bayesian regression\n",
    "# size: 90"
   ]
  },
  {
   "cell_type": "markdown",
   "metadata": {},
   "source": [
    "### Real Data"
   ]
  },
  {
   "cell_type": "code",
   "execution_count": null,
   "metadata": {
    "uuid": "0562fc9b-01c8-4eae-8e57-959a6e551610"
   },
   "outputs": [],
   "source": [
    "import pytz\n",
    "import datetime as dt"
   ]
  },
  {
   "cell_type": "code",
   "execution_count": null,
   "metadata": {},
   "outputs": [],
   "source": [
    "raw = pd.read_csv('source/tr_eikon_eod_data.csv',\n",
    "                  index_col=0, parse_dates=True)\n",
    "symbols = ['GLD', 'GDX']\n",
    "data = raw[symbols]"
   ]
  },
  {
   "cell_type": "code",
   "execution_count": null,
   "metadata": {
    "uuid": "a3774b4d-09a8-47ce-a56e-aac894334dbd"
   },
   "outputs": [],
   "source": [
    "data.info()"
   ]
  },
  {
   "cell_type": "code",
   "execution_count": null,
   "metadata": {
    "uuid": "07c6dea4-fd4f-496c-86f2-e92689797fe8"
   },
   "outputs": [],
   "source": [
    "data.plot(figsize=(8, 4))\n",
    "# tag: zip_fig_1\n",
    "# title: Co-movements of traiding pair\n",
    "# size: 90"
   ]
  },
  {
   "cell_type": "code",
   "execution_count": null,
   "metadata": {
    "uuid": "8b467729-65d9-4579-8b4c-944fb18bee4c"
   },
   "outputs": [],
   "source": [
    "data.ix[-1] / data.ix[0] - 1"
   ]
  },
  {
   "cell_type": "code",
   "execution_count": null,
   "metadata": {
    "uuid": "ed244e7b-692f-4e14-b642-80ceccf221b2"
   },
   "outputs": [],
   "source": [
    "data.corr()"
   ]
  },
  {
   "cell_type": "code",
   "execution_count": null,
   "metadata": {
    "uuid": "a92a57dd-76c4-4e8b-ab75-8523fbb49435"
   },
   "outputs": [],
   "source": [
    "data.index"
   ]
  },
  {
   "cell_type": "code",
   "execution_count": null,
   "metadata": {
    "uuid": "facf1920-22f9-4300-90ed-39f79d9b024c"
   },
   "outputs": [],
   "source": [
    "import matplotlib as mpl\n",
    "mpl_dates = mpl.dates.date2num(data.index.to_pydatetime())\n",
    "mpl_dates"
   ]
  },
  {
   "cell_type": "code",
   "execution_count": null,
   "metadata": {
    "uuid": "f73eecbd-a135-4448-a5d4-8caa6259039e"
   },
   "outputs": [],
   "source": [
    "plt.figure(figsize=(8, 4))\n",
    "plt.scatter(data['GDX'], data['GLD'], c=mpl_dates, marker='o')\n",
    "plt.grid(True)\n",
    "plt.xlabel('GDX')\n",
    "plt.ylabel('GLD')\n",
    "plt.colorbar(ticks=mpl.dates.DayLocator(interval=250),\n",
    "             format=mpl.dates.DateFormatter('%d %b %y'))\n",
    "# tag: zip_fig_2\n",
    "# title: Scatter plot of prices for GLD and GDX\n",
    "# size: 90"
   ]
  },
  {
   "cell_type": "code",
   "execution_count": null,
   "metadata": {
    "uuid": "0cf4e75d-b4ea-4822-9e25-8c837fe6049d"
   },
   "outputs": [],
   "source": [
    "with pm.Model() as model:\n",
    "    alpha = pm.Normal('alpha', mu=0, sd=20)\n",
    "    beta = pm.Normal('beta', mu=0, sd=20)\n",
    "    sigma = pm.Uniform('sigma', lower=0, upper=50)\n",
    "    \n",
    "    y_est = alpha + beta * data['GDX'].values\n",
    "    \n",
    "    likelihood = pm.Normal('GLD', mu=y_est, sd=sigma,\n",
    "                           observed=data['GLD'].values)\n",
    "    \n",
    "    start = pm.find_MAP()\n",
    "    step = pm.NUTS()\n",
    "    trace = pm.sample(100, step, start=start, progressbar=False)"
   ]
  },
  {
   "cell_type": "code",
   "execution_count": null,
   "metadata": {
    "uuid": "1a64e594-4985-4413-b4b6-c8400691fbc2"
   },
   "outputs": [],
   "source": [
    "fig = pm.traceplot(trace)\n",
    "plt.figure(figsize=(8, 8))\n",
    "# tag: zip_fig_3\n",
    "# title: Trace plots for alpha, beta and sigma based on GDX and GLD data\n",
    "# size: 90"
   ]
  },
  {
   "cell_type": "code",
   "execution_count": null,
   "metadata": {
    "uuid": "cd213b2f-72e3-4afb-8be3-60e61e94c7c6"
   },
   "outputs": [],
   "source": [
    "plt.figure(figsize=(8, 4))\n",
    "plt.scatter(data['GDX'], data['GLD'], c=mpl_dates, marker='o')\n",
    "plt.grid(True)\n",
    "plt.xlabel('GDX')\n",
    "plt.ylabel('GLD')\n",
    "for i in range(len(trace)):\n",
    "    plt.plot(data['GDX'], trace['alpha'][i] + trace['beta'][i] * data['GDX'])\n",
    "plt.colorbar(ticks=mpl.dates.DayLocator(interval=250),\n",
    "             format=mpl.dates.DateFormatter('%d %b %y'))\n",
    "# tag: zip_fig_4\n",
    "# title: Scatter plot with \"simple\" regression lines\n",
    "# size: 90"
   ]
  },
  {
   "cell_type": "code",
   "execution_count": 1,
   "metadata": {},
   "outputs": [],
   "source": [
    "## Machine Learning\n",
    "## Unsupervised Learning\n",
    "import numpy as np\n",
    "import pandas as pd\n",
    "import datetime as dt\n",
    "from pylab import mpl, plt"
   ]
  },
  {
   "cell_type": "code",
   "execution_count": 2,
   "metadata": {},
   "outputs": [],
   "source": [
    "plt.style.use('seaborn')\n",
    "import matplotlib as mpl\n",
    "mpl.rcParams['font.family'] = 'serif'\n",
    "np.random.seed(1000)\n",
    "np.set_printoptions(suppress=True, precision=4)\n",
    "%matplotlib inline"
   ]
  },
  {
   "cell_type": "code",
   "execution_count": 4,
   "metadata": {},
   "outputs": [
    {
     "name": "stderr",
     "output_type": "stream",
     "text": [
      "/home/koji/.local/lib/python3.6/site-packages/sklearn/utils/deprecation.py:143: FutureWarning: The sklearn.datasets.samples_generator module is  deprecated in version 0.22 and will be removed in version 0.24. The corresponding classes / functions should instead be imported from sklearn.datasets. Anything that cannot be imported from sklearn.datasets is now part of the private API.\n",
      "  warnings.warn(message, FutureWarning)\n"
     ]
    }
   ],
   "source": [
    "# k-means clustering用のサンプルデータを生成する\n",
    "from sklearn.datasets.samples_generator import make_blobs"
   ]
  },
  {
   "cell_type": "code",
   "execution_count": 6,
   "metadata": {},
   "outputs": [],
   "source": [
    "X, y = make_blobs(n_samples=250, centers=4, random_state=500, cluster_std=1.25)"
   ]
  },
  {
   "cell_type": "code",
   "execution_count": 7,
   "metadata": {},
   "outputs": [
    {
     "data": {
      "text/plain": [
       "<matplotlib.collections.PathCollection at 0x7f23b1e1b0f0>"
      ]
     },
     "execution_count": 7,
     "metadata": {},
     "output_type": "execute_result"
    },
    {
     "data": {
      "image/png": "[encoded data removed]",
      "text/plain": [
       "<Figure size 720x432 with 1 Axes>"
      ]
     },
     "metadata": {
      "needs_background": "light"
     },
     "output_type": "display_data"
    }
   ],
   "source": [
    "plt.figure(figsize=(10,6))\n",
    "plt.scatter(X[:, 0], X[:, 1], s=50)"
   ]
  },
  {
   "cell_type": "code",
   "execution_count": 9,
   "metadata": {},
   "outputs": [],
   "source": [
    "## TODO k-means clustering (p445)"
   ]
  },
  {
   "cell_type": "code",
   "execution_count": 10,
   "metadata": {},
   "outputs": [],
   "source": [
    "## TODO Gaussian mixture (p446)"
   ]
  },
  {
   "cell_type": "code",
   "execution_count": null,
   "metadata": {},
   "outputs": [],
   "source": [
    "# Supervised Learning (p447)\n",
    "# まずは分類アルゴリズム用のサンプルデータを生成する\n"
   ]
  },
  {
   "cell_type": "code",
   "execution_count": null,
   "metadata": {},
   "outputs": [],
   "source": []
  },
  {
   "cell_type": "code",
   "execution_count": null,
   "metadata": {},
   "outputs": [],
   "source": []
  },
  {
   "cell_type": "code",
   "execution_count": null,
   "metadata": {},
   "outputs": [],
   "source": []
  },
  {
   "cell_type": "code",
   "execution_count": null,
   "metadata": {},
   "outputs": [],
   "source": []
  },
  {
   "cell_type": "code",
   "execution_count": null,
   "metadata": {},
   "outputs": [],
   "source": []
  },
  {
   "cell_type": "code",
   "execution_count": null,
   "metadata": {},
   "outputs": [],
   "source": []
  },
  {
   "cell_type": "code",
   "execution_count": null,
   "metadata": {},
   "outputs": [],
   "source": []
  },
  {
   "cell_type": "code",
   "execution_count": null,
   "metadata": {},
   "outputs": [],
   "source": []
  },
  {
   "cell_type": "code",
   "execution_count": null,
   "metadata": {},
   "outputs": [],
   "source": []
  },
  {
   "cell_type": "code",
   "execution_count": null,
   "metadata": {},
   "outputs": [],
   "source": []
  },
  {
   "cell_type": "code",
   "execution_count": null,
   "metadata": {},
   "outputs": [],
   "source": []
  },
  {
   "cell_type": "code",
   "execution_count": null,
   "metadata": {},
   "outputs": [],
   "source": []
  },
  {
   "cell_type": "markdown",
   "metadata": {},
   "source": [
    "## Conclusions"
   ]
  },
  {
   "cell_type": "markdown",
   "metadata": {},
   "source": [
    "## Further Reading"
   ]
  },
  {
   "cell_type": "markdown",
   "metadata": {},
   "source": [
    "<img src=\"http://hilpisch.com/tpq_logo.png\" alt=\"The Python Quants\" width=\"35%\" align=\"right\" border=\"0\"><br>\n",
    "\n",
    "<a href=\"http://tpq.io\" target=\"_blank\">http://tpq.io</a> | <a href=\"http://twitter.com/dyjh\" target=\"_blank\">@dyjh</a> | <a href=\"mailto:training@tpq.io\">training@tpq.io</a>\n",
    "\n",
    "**Quant Platform** |\n",
    "<a href=\"http://quant-platform.com\">http://quant-platform.com</a>\n",
    "\n",
    "**Python for Finance** |\n",
    "<a href=\"http://python-for-finance.com\" target=\"_blank\">Python for Finance @ O'Reilly</a>\n",
    "\n",
    "**Derivatives Analytics with Python** |\n",
    "<a href=\"http://derivatives-analytics-with-python.com\" target=\"_blank\">Derivatives Analytics @ Wiley Finance</a>\n",
    "\n",
    "**Listed Volatility and Variance Derivatives** |\n",
    "<a href=\"http://lvvd.tpq.io\" target=\"_blank\">Listed VV Derivatives @ Wiley Finance</a>\n",
    "\n",
    "**Python Training** |\n",
    "<a href=\"http://training.tpq.io\" target=\"_blank\">Python for Finance University Certificate</a>"
   ]
  }
 ],
 "metadata": {
  "anaconda-cloud": {},
  "kernelspec": {
   "display_name": "Python 3",
   "language": "python",
   "name": "python3"
  },
  "language_info": {
   "codemirror_mode": {
    "name": "ipython",
    "version": 3
   },
   "file_extension": ".py",
   "mimetype": "text/x-python",
   "name": "python",
   "nbconvert_exporter": "python",
   "pygments_lexer": "ipython3",
   "version": "3.6.8"
  }
 },
 "nbformat": 4,
 "nbformat_minor": 1
}
